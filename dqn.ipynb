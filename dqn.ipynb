{
 "cells": [
  {
   "cell_type": "code",
   "execution_count": 210,
   "metadata": {},
   "outputs": [],
   "source": [
    "%matplotlib inline"
   ]
  },
  {
   "cell_type": "code",
   "execution_count": 211,
   "metadata": {},
   "outputs": [
    {
     "name": "stdout",
     "output_type": "stream",
     "text": [
      "Requirement already satisfied: gym[classic_control] in /home/mekasaimukund/.local/lib/python3.10/site-packages (0.26.2)\n",
      "Requirement already satisfied: gym-notices>=0.0.4 in /home/mekasaimukund/.local/lib/python3.10/site-packages (from gym[classic_control]) (0.0.8)\n",
      "Requirement already satisfied: cloudpickle>=1.2.0 in /home/mekasaimukund/.local/lib/python3.10/site-packages (from gym[classic_control]) (2.2.0)\n",
      "Requirement already satisfied: numpy>=1.18.0 in /home/mekasaimukund/.local/lib/python3.10/site-packages (from gym[classic_control]) (1.23.4)\n",
      "Requirement already satisfied: pygame==2.1.0 in /home/mekasaimukund/.local/lib/python3.10/site-packages (from gym[classic_control]) (2.1.0)\n"
     ]
    }
   ],
   "source": [
    "%%bash\n",
    "pip install gym[classic_control]"
   ]
  },
  {
   "cell_type": "code",
   "execution_count": 212,
   "metadata": {},
   "outputs": [],
   "source": [
    "'''\n",
    "Deep Q-Learning \n",
    "Gym - Cartpole environment\n",
    "'''\n",
    "'''imports'''\n",
    "\n",
    "import math\n",
    "import random\n",
    "import numpy as np\n",
    "import matplotlib\n",
    "import matplotlib.pyplot as plt \n",
    "\n",
    "import sys\n",
    "import gym\n",
    "\n",
    "import torch\n",
    "import torch.nn as nn\n",
    "import torch.nn.functional as F\n",
    "import torch.optim as optim\n",
    "\n",
    "from collections import namedtuple, deque\n",
    "\n",
    "debug = False\n",
    "\n",
    "'''Hyperparameters'''\n",
    "MEM_SIZE = 10000\n",
    "UPDATE_TARG_FREQ = 10\n",
    "GAMMA = 0.99\n",
    "BATCH_SIZE = 32\n",
    "BETA = 1.0  # Huber loss\n",
    "EPISODES = 500\n",
    "\n",
    "EPS_MAX = 0.9\n",
    "EPS_DECAY = 200\n",
    "EPS_MIN = 0.05\n",
    "\n",
    "def log(*args):\n",
    "    if debug:\n",
    "        print(*args)\n",
    "\n",
    "log(gym.__version__)\n",
    "from gym.utils.env_checker import check_env\n"
   ]
  },
  {
   "cell_type": "code",
   "execution_count": 213,
   "metadata": {},
   "outputs": [
    {
     "name": "stderr",
     "output_type": "stream",
     "text": [
      "/home/mekasaimukund/.local/lib/python3.10/site-packages/gym/envs/registration.py:555: UserWarning: \u001b[33mWARN: The environment CartPole-v0 is out of date. You should consider upgrading to version `v1`.\u001b[0m\n",
      "  logger.warn(\n",
      "/home/mekasaimukund/.local/lib/python3.10/site-packages/gym/utils/env_checker.py:277: UserWarning: \u001b[33mWARN: The environment (<TimeLimit<OrderEnforcing<PassiveEnvChecker<CartPoleEnv<CartPole-v0>>>>>) is different from the unwrapped version (<CartPoleEnv<CartPole-v0>>). This could effect the environment checker as the environment most likely has a wrapper applied to it. We recommend using the raw environment for `check_env` using `env.unwrapped`.\u001b[0m\n",
      "  logger.warn(\n"
     ]
    }
   ],
   "source": [
    "'''Environment setup'''\n",
    "if gym.__version__ < '0.26':\n",
    "    env = gym.make('CartPole-v0', render_mode=\"rgb_array\")\n",
    "else:\n",
    "    env = gym.make('CartPole-v0', render_mode=\"rgb_array\")\n",
    "\n",
    "check_env(env)\n",
    "\n",
    "log(env)\n",
    "log(env.action_space)\n",
    "log(env.observation_space)\n",
    "\n",
    "is_jupyter = 'inline' in matplotlib.get_backend()\n",
    "if is_jupyter:\n",
    "    from IPython import display\n",
    "plt.ion()\n",
    "\n",
    "# GPU\n",
    "device = torch.device(\"cuda\" if torch.cuda.is_available() else \"cpu\")\n",
    "\n",
    "log(device)"
   ]
  },
  {
   "cell_type": "code",
   "execution_count": 214,
   "metadata": {},
   "outputs": [
    {
     "name": "stderr",
     "output_type": "stream",
     "text": [
      "/home/mekasaimukund/miniconda3/envs/nn/lib/python3.10/site-packages/torchvision/transforms/transforms.py:332: UserWarning: Argument 'interpolation' of type int is deprecated since 0.13 and will be removed in 0.15. Please use InterpolationMode enum.\n",
      "  warnings.warn(\n"
     ]
    },
    {
     "data": {
      "image/png": "[encoded data removed]",
      "text/plain": [
       "<Figure size 640x480 with 1 Axes>"
      ]
     },
     "metadata": {},
     "output_type": "display_data"
    }
   ],
   "source": [
    "import torchvision.transforms as T\n",
    "from PIL import Image\n",
    "\n",
    "# extraction and processing of cartpole snapshot\n",
    "resize = T.Compose([T.ToPILImage(),\n",
    "                    T.Resize(40, interpolation=Image.Resampling.BICUBIC),\n",
    "                    T.ToTensor()])\n",
    "\n",
    "def get_cart_location(screen_width):\n",
    "    world_width = env.x_threshold * 2\n",
    "    scale = screen_width / world_width\n",
    "    return int(env.state[0] * scale + screen_width / 2.0)  # MIDDLE OF CART\n",
    "\n",
    "def get_screen():\n",
    "    # Returned screen requested by gym is 400x600x3, but is sometimes larger\n",
    "    # such as 800x1200x3. Transpose it into torch order (CHW).\n",
    "    log('yes')\n",
    "    screen = env.render().transpose((2, 0, 1))\n",
    "    # screen = env.render()\n",
    "    # print(env.render())\n",
    "    log('ok')\n",
    "    # Cart is in the lower half, so strip off the top and bottom of the screen\n",
    "    _, screen_height, screen_width = screen.shape\n",
    "    log(screen_height, screen_width)\n",
    "    \n",
    "    screen = screen[:, int(screen_height*0.4):int(screen_height * 0.8)]\n",
    "    view_width = int(screen_width * 0.6)\n",
    "    cart_location = get_cart_location(screen_width)\n",
    "    # log(cart_location, screen_width, view_width)\n",
    "    \n",
    "    if cart_location < view_width // 2:\n",
    "        slice_range = slice(view_width)\n",
    "    elif cart_location > (screen_width - view_width // 2):\n",
    "        slice_range = slice(-view_width, None)\n",
    "    else:\n",
    "        slice_range = slice(cart_location - view_width // 2,\n",
    "                            cart_location + view_width // 2)\n",
    "    \n",
    "    # Strip off the edges, so that we have a square image centered on a cart\n",
    "    screen = screen[:, :, slice_range]\n",
    "    # Convert to float, rescale, convert to torch tensor\n",
    "    # (this doesn't require a copy)\n",
    "    screen = np.ascontiguousarray(screen, dtype=np.float32) / 255\n",
    "    screen = torch.from_numpy(screen)\n",
    "\n",
    "    # Resize, and add a batch dimension (BCHW)\n",
    "    return resize(screen).unsqueeze(0)\n",
    "\n",
    "state =  env.reset()\n",
    "log(state)\n",
    "plt.figure()\n",
    "plt.imshow(get_screen().cpu().squeeze(0).permute(1, 2, 0).numpy(),\n",
    "           interpolation='none')\n",
    "plt.title('Example extracted screen')\n",
    "plt.show()"
   ]
  },
  {
   "cell_type": "code",
   "execution_count": 215,
   "metadata": {},
   "outputs": [],
   "source": [
    "'''Neural Network for modelling the Q function'''\n",
    "'''\n",
    "super().__init__() - initialises the parent class, nn.Module here, \n",
    "which is a base class for all neural network modules\n",
    "\n",
    "nn.conv2d(in_channel, out_channel, kernel_size, stride, padding)\n",
    "in_channel: number of channels in the input image\n",
    "out_channel: number of channels produced by the convolution or no of filters\n",
    "kernel_size: size of the convolving kernels\n",
    "stride: stride of the convolution\n",
    "padding: zero-padding added to both sides of the input\n",
    "\n",
    "nn.BatchNorm2d(num_features)\n",
    "num_features: number of channels in the input image\n",
    "batch normalisation: normalises the output of a previous activation layer by\n",
    "subtracting the batch mean and dividing by the batch standard deviation \n",
    "'''\n",
    "class DQN(nn.Module):\n",
    "    def __init__(self, ht, wid, output):\n",
    "        super(DQN, self).__init__()\n",
    "        \n",
    "        self.conv1 = nn.Conv2d(3, 16, kernel_size=5, stride=2)\n",
    "        self.bn1 = nn.BatchNorm2d(16)\n",
    "        \n",
    "        self.conv2 = nn.Conv2d(16, 32, kernel_size=5, stride=2)\n",
    "        self.bn2 = nn.BatchNorm2d(32)\n",
    "\n",
    "        self.conv3 = nn.Conv2d(32, 32, kernel_size=5, stride=2)\n",
    "        self.bn3 = nn.BatchNorm2d(32)\n",
    "\n",
    "\n",
    "        self.head = nn.Linear(32 * 16, output)\n",
    "\n",
    "    def forward(self, x):\n",
    "        x = x.to(device)      # moving data to a gpu\n",
    "        x = F.relu(self.bn1(self.conv1(x)))\n",
    "        x = F.relu(self.bn2(self.conv2(x)))\n",
    "        x = F.relu(self.bn3(self.conv3(x)))\n",
    "\n",
    "        return self.head(x.view(x.size(0), -1))     # ??        \n",
    "        # x.view -- reshapes the tensor to a given shape\n",
    "        # x.view(x.size(0), -1) -- flattening the tensor\n"
   ]
  },
  {
   "cell_type": "code",
   "execution_count": 216,
   "metadata": {},
   "outputs": [],
   "source": [
    "Transition = namedtuple('transition', ('s', 'a', 's_next', 'r'))\n",
    "class Memory(object):\n",
    "    def __init__(self, capacity):\n",
    "        self.buffer = deque([], maxlen=capacity)\n",
    "\n",
    "    def push(self, *args):\n",
    "        self.buffer.append(Transition(*args))\n",
    "    \n",
    "    def sample(self, batch_size):\n",
    "        batch = random.sample(self.buffer, batch_size)\n",
    "        return Transition(*zip(*batch))\n",
    "    \n",
    "    def __len__(self):\n",
    "        return len(self.buffer)"
   ]
  },
  {
   "cell_type": "code",
   "execution_count": 217,
   "metadata": {},
   "outputs": [],
   "source": [
    "_, _, screen_height, screen_width = get_screen().shape\n",
    "\n",
    "policy = DQN(screen_height, screen_width, env.action_space.n)    # policy network\n",
    "target = DQN(screen_height, screen_width, env.action_space.n)   # target network\n",
    "\n",
    "policy = policy.to(device)     # using gpu\n",
    "target = target.to(device)\n",
    "\n",
    "'''\n",
    "1. target network is occasionally updated with the policy network weights\n",
    "2. Actions are chosen from target network and based on it, policy network weights \n",
    "   are updated in EACH iteration. \n",
    "'''\n",
    "target.load_state_dict(policy.state_dict())    # copying the weights\n",
    "target.eval()     # setting the target network to evaluation mode\n",
    "\n",
    "\n",
    "'''\n",
    "torch.autograd() - automatic differentiation package\n",
    "used in backpropagation to compute the gradients of the loss function w.r.t. \n",
    "the weights of the neural network\n",
    "\n",
    "target.eval() - sets the module in evaluation mode\n",
    "evaluation mode: dropout and batch normalization layers are disabled\n",
    "\n",
    "torch.no_grad() - turn off gradient calculation\n",
    "detach() - returns a new tensor, detached from the current graph\n",
    "         - gradient descent turned off for the tensor\n",
    "         - moves tensor to CPU\n",
    "\n",
    "'''\n",
    "\n",
    "optimizer = optim.RMSprop(policy.parameters())    # MSE loss\n",
    "memory = Memory(MEM_SIZE)                         # memory buffer\n",
    "\n",
    "def optimize_model():\n",
    "    if len(memory) < BATCH_SIZE:\n",
    "        return\n",
    "    batch = memory.sample(BATCH_SIZE)\n",
    "    log(len(batch))\n",
    "    for i in range(len(batch)):\n",
    "        log(f\"{i}th sample: {batch[i]}\")\n",
    "    \n",
    "    mask = torch.tensor(tuple(map(lambda s: s is not None, batch.s_next)), device=device, dtype=torch.bool)  # lists all non-final states\n",
    "    n_s_next = torch.cat([elem for elem in batch.s_next if elem is not None])   # concatenates all non-final states\n",
    "    \n",
    "    s = torch.cat(batch.s)\n",
    "    a = torch.cat(batch.a)\n",
    "    r = torch.cat(batch.r)\n",
    "\n",
    "    # Q(s, a)\n",
    "    q_values = policy(s).gather(1, a)\n",
    "    # Q(s_next, a_next)\n",
    "    next_q_values = torch.zeros(BATCH_SIZE, device=device)\n",
    "    next_q_values[mask] = target(n_s_next).max(1)[0]    # gives optimal q_values\n",
    "    \n",
    "    # expected Q values\n",
    "    expected_q_values = r + GAMMA * next_q_values\n",
    "\n",
    "    # loss function\n",
    "    loss_func = nn.SmoothL1Loss()\n",
    "    loss = loss_func(q_values, expected_q_values)\n",
    "\n",
    "    '''\n",
    "    torch.gather(t, 1, torch.tensor([[0, 0], [1, 0]]))\n",
    "    tensor([[1,  1], [4,  3]])   \n",
    "    gathers the values at the indices specified in the second argument\n",
    "    \n",
    "    x = torch.tensor([1, 2, 3, 4])\n",
    "    torch.unsqueeze(x, 0) ---- tensor([[ 1,  2,  3,  4]]), new tensor with dimension of size 1 inserted at the specified position\n",
    "    torch.unsqueeze(x, 1)\n",
    "    tensor([[ 1],\n",
    "            [ 2],\n",
    "            [ 3],\n",
    "            [ 4]])\n",
    "    '''\n",
    "\n",
    "    # backpropagation\n",
    "    optimizer.zero_grad()\n",
    "    loss.backward()\n",
    "    for param in policy.parameters():\n",
    "        param.grad.data.clamp_(-1, 1)\n",
    "    optimizer.step()"
   ]
  },
  {
   "cell_type": "code",
   "execution_count": 218,
   "metadata": {},
   "outputs": [],
   "source": [
    "step_counter = 0  # for eps-decay in the e-greedy policy\n",
    "def action_policy(state):\n",
    "    global step_counter\n",
    "    \n",
    "    eps = EPS_MAX + (EPS_MAX - EPS_MIN) * math.exp(-1.0 * step_counter / EPS_DECAY)\n",
    "    step_counter += 1\n",
    "    \n",
    "    if random.random() > eps:       # explore with (1 - eps) prob\n",
    "        with torch.no_grad():\n",
    "            return policy(state).max(1)[1].view(1, 1)\n",
    "            # v.max(1) returns largest column value of each row\n",
    "            # 2nd arg = 1 returns the index of the max value\n",
    "            # view(1, 1) reshapes the tensor to a 1x1 tensor\n",
    "    else:\n",
    "        return torch.tensor([[random.randrange(env.action_space.n)]], device=device, dtype=torch.long)"
   ]
  },
  {
   "cell_type": "code",
   "execution_count": 219,
   "metadata": {},
   "outputs": [],
   "source": [
    "episode_durations = []\n",
    "\n",
    "def plot_graph():\n",
    "    plt.figure(1)\n",
    "    durations_t = torch.tensor(episode_durations, dtype=torch.float)\n",
    "\n",
    "    plt.title('Results')\n",
    "    plt.xlabel('Episode')\n",
    "    plt.ylabel('Duration')\n",
    "    plt.plot(durations_t.numpy())\n",
    "\n",
    "    if len(durations_t) >= 100:\n",
    "        means = durations_t.unfold(0, 100, 1).mean(1).view(-1)\n",
    "        means = torch.cat((torch.zeros(99), means))\n",
    "        plt.plot(means.numpy())\n",
    "\n",
    "    plt.show()\n"
   ]
  },
  {
   "cell_type": "code",
   "execution_count": 220,
   "metadata": {},
   "outputs": [
    {
     "name": "stderr",
     "output_type": "stream",
     "text": [
      "/home/mekasaimukund/.local/lib/python3.10/site-packages/torch/nn/modules/loss.py:928: UserWarning: Using a target size (torch.Size([32])) that is different to the input size (torch.Size([32, 1])). This will likely lead to incorrect results due to broadcasting. Please ensure they have the same size.\n",
      "  return F.smooth_l1_loss(input, target, reduction=self.reduction, beta=self.beta)\n"
     ]
    },
    {
     "name": "stdout",
     "output_type": "stream",
     "text": [
      "Done\n"
     ]
    },
    {
     "data": {
      "image/png": "[encoded data removed]",
      "text/plain": [
       "<Figure size 640x480 with 1 Axes>"
      ]
     },
     "metadata": {},
     "output_type": "display_data"
    }
   ],
   "source": [
    "for ep in range(EPISODES):\n",
    "    # initialisation\n",
    "    env.reset()\n",
    "    last_screen = get_screen()\n",
    "    current_screen = get_screen()\n",
    "    state = current_screen - last_screen\n",
    "    \n",
    "    iter = 0\n",
    "    while True:\n",
    "        action = action_policy(state)\n",
    "        _, reward, done, _, _ = env.step(action.item())\n",
    "        reward = torch.tensor([reward], device=device)\n",
    "\n",
    "        # new state\n",
    "        last_screen = current_screen\n",
    "        current_screen = get_screen()\n",
    "        if not done:\n",
    "            next_state = current_screen - last_screen\n",
    "        else:\n",
    "            next_state = None\n",
    "        \n",
    "        # replay memory store\n",
    "        memory.push(state, action, next_state, reward)\n",
    "        state = next_state\n",
    "\n",
    "        # optimize policy network\n",
    "        optimize_model()\n",
    "\n",
    "        # copy wts to target\n",
    "        if iter % UPDATE_TARG_FREQ == 0:\n",
    "            target.load_state_dict(policy.state_dict())\n",
    "\n",
    "        if done:\n",
    "            episode_durations.append(iter + 1)\n",
    "            break\n",
    "\n",
    "        iter += 1\n",
    "\n",
    "print('Done')\n",
    "plot_graph()"
   ]
  },
  {
   "cell_type": "code",
   "execution_count": 221,
   "metadata": {},
   "outputs": [
    {
     "name": "stderr",
     "output_type": "stream",
     "text": [
      "UsageError: Line magic function `%%script` not found.\n"
     ]
    }
   ],
   "source": [
    "'''experimental cell'''\n",
    "%%script false --no-raise-error       # comment out the line to run\n",
    "x = torch.tensor([1, 2, 3, 4])\n",
    "print(torch.unsqueeze(x, 0).size()) \n",
    "print(torch.unsqueeze(x, 1).size())\n",
    "\n",
    "print(torch.unsqueeze(x, 0)) \n",
    "print(torch.unsqueeze(x, 1))\n",
    "\n",
    "x = torch.tensor([[1, 2], [3, 4]])\n",
    "print(torch.unsqueeze(x, 0).size()) \n",
    "print(torch.unsqueeze(x, 1).size())\n",
    "print(torch.unsqueeze(x, 2).size())\n",
    "\n",
    "\n",
    "print(torch.unsqueeze(x, 0)) \n",
    "print(torch.unsqueeze(x, 1))\n",
    "print(torch.unsqueeze(x, 2))\n"
   ]
  }
 ],
 "metadata": {
  "kernelspec": {
   "display_name": "Python 3.10.8 ('nn')",
   "language": "python",
   "name": "python3"
  },
  "language_info": {
   "codemirror_mode": {
    "name": "ipython",
    "version": 3
   },
   "file_extension": ".py",
   "mimetype": "text/x-python",
   "name": "python",
   "nbconvert_exporter": "python",
   "pygments_lexer": "ipython3",
   "version": "3.10.8 (main, Nov 24 2022, 14:13:03) [GCC 11.2.0]"
  },
  "orig_nbformat": 4,
  "vscode": {
   "interpreter": {
    "hash": "a9bbdcd43ca33f3fef16f6777c99f456688c24aa5862c7b4af1a417f67d0804a"
   }
  }
 },
 "nbformat": 4,
 "nbformat_minor": 2
}
