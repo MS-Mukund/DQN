{
 "cells": [
  {
   "cell_type": "code",
   "execution_count": 25,
   "metadata": {},
   "outputs": [],
   "source": [
    "%matplotlib inline"
   ]
  },
  {
   "cell_type": "code",
   "execution_count": 26,
   "metadata": {},
   "outputs": [
    {
     "name": "stdout",
     "output_type": "stream",
     "text": [
      "Requirement already satisfied: gym[classic_control] in /home/mekasaimukund/.local/lib/python3.10/site-packages (0.26.2)\n",
      "Requirement already satisfied: cloudpickle>=1.2.0 in /home/mekasaimukund/.local/lib/python3.10/site-packages (from gym[classic_control]) (2.2.0)\n",
      "Requirement already satisfied: gym-notices>=0.0.4 in /home/mekasaimukund/.local/lib/python3.10/site-packages (from gym[classic_control]) (0.0.8)\n",
      "Requirement already satisfied: numpy>=1.18.0 in /home/mekasaimukund/.local/lib/python3.10/site-packages (from gym[classic_control]) (1.23.4)\n",
      "Requirement already satisfied: pygame==2.1.0 in /home/mekasaimukund/.local/lib/python3.10/site-packages (from gym[classic_control]) (2.1.0)\n"
     ]
    }
   ],
   "source": [
    "%%bash\n",
    "pip install gym[classic_control]"
   ]
  },
  {
   "cell_type": "code",
   "execution_count": 27,
   "metadata": {},
   "outputs": [
    {
     "name": "stdout",
     "output_type": "stream",
     "text": [
      "0.26.2\n"
     ]
    }
   ],
   "source": [
    "'''\n",
    "Deep Q-Learning \n",
    "Gym - Cartpole environment\n",
    "'''\n",
    "'''imports'''\n",
    "\n",
    "import math\n",
    "import random\n",
    "import numpy as np\n",
    "import matplotlib\n",
    "import matplotlib.pyplot as plt \n",
    "\n",
    "import sys\n",
    "import gym\n",
    "\n",
    "import torch\n",
    "import torch.nn as nn\n",
    "import torch.nn.functional as F\n",
    "import torch.optim as optim\n",
    "\n",
    "from collections import namedtuple, deque\n",
    "\n",
    "debug = True\n",
    "\n",
    "'''Hyperparameters'''\n",
    "MEM_SIZE = 10000\n",
    "UPDATE_TARGET_NET = 10\n",
    "huber = 1\n",
    "gamma = 0.99\n",
    "batch_size = 32\n",
    "\n",
    "\n",
    "\n",
    "def log(*args):\n",
    "    if debug:\n",
    "        print(*args)\n",
    "\n",
    "log(gym.__version__)\n",
    "from gym.utils.env_checker import check_env\n"
   ]
  },
  {
   "cell_type": "code",
   "execution_count": 28,
   "metadata": {},
   "outputs": [
    {
     "name": "stdout",
     "output_type": "stream",
     "text": [
      "<TimeLimit<OrderEnforcing<PassiveEnvChecker<CartPoleEnv<CartPole-v0>>>>>\n",
      "Discrete(2)\n",
      "Box([-4.8000002e+00 -3.4028235e+38 -4.1887903e-01 -3.4028235e+38], [4.8000002e+00 3.4028235e+38 4.1887903e-01 3.4028235e+38], (4,), float32)\n",
      "cuda\n"
     ]
    },
    {
     "name": "stderr",
     "output_type": "stream",
     "text": [
      "/home/mekasaimukund/.local/lib/python3.10/site-packages/gym/envs/registration.py:555: UserWarning: \u001b[33mWARN: The environment CartPole-v0 is out of date. You should consider upgrading to version `v1`.\u001b[0m\n",
      "  logger.warn(\n",
      "/home/mekasaimukund/.local/lib/python3.10/site-packages/gym/utils/env_checker.py:277: UserWarning: \u001b[33mWARN: The environment (<TimeLimit<OrderEnforcing<PassiveEnvChecker<CartPoleEnv<CartPole-v0>>>>>) is different from the unwrapped version (<CartPoleEnv<CartPole-v0>>). This could effect the environment checker as the environment most likely has a wrapper applied to it. We recommend using the raw environment for `check_env` using `env.unwrapped`.\u001b[0m\n",
      "  logger.warn(\n"
     ]
    }
   ],
   "source": [
    "'''Environment setup'''\n",
    "if gym.__version__ < '0.26':\n",
    "    env = gym.make('CartPole-v0', render_mode=\"rgb_array\")\n",
    "else:\n",
    "    env = gym.make('CartPole-v0', render_mode=\"rgb_array\")\n",
    "\n",
    "check_env(env)\n",
    "\n",
    "log(env)\n",
    "log(env.action_space)\n",
    "log(env.observation_space)\n",
    "\n",
    "is_jupyter = 'inline' in matplotlib.get_backend()\n",
    "if is_jupyter:\n",
    "    from IPython import display\n",
    "plt.ion()\n",
    "\n",
    "# GPU\n",
    "device = torch.device(\"cuda\" if torch.cuda.is_available() else \"cpu\")\n",
    "\n",
    "log(device)"
   ]
  },
  {
   "cell_type": "code",
   "execution_count": 29,
   "metadata": {},
   "outputs": [
    {
     "name": "stdout",
     "output_type": "stream",
     "text": [
      "(array([ 0.00265438, -0.01806092, -0.02578455,  0.00474932], dtype=float32), {})\n",
      "yes\n",
      "ok\n",
      "400 600\n"
     ]
    },
    {
     "name": "stderr",
     "output_type": "stream",
     "text": [
      "/home/mekasaimukund/miniconda3/envs/nn/lib/python3.10/site-packages/torchvision/transforms/transforms.py:332: UserWarning: Argument 'interpolation' of type int is deprecated since 0.13 and will be removed in 0.15. Please use InterpolationMode enum.\n",
      "  warnings.warn(\n"
     ]
    },
    {
     "data": {
      "image/png": "[encoded data removed]",
      "text/plain": [
       "<Figure size 640x480 with 1 Axes>"
      ]
     },
     "metadata": {},
     "output_type": "display_data"
    }
   ],
   "source": [
    "import torchvision.transforms as T\n",
    "from PIL import Image\n",
    "\n",
    "# extraction and processing of cartpole snapshot\n",
    "resize = T.Compose([T.ToPILImage(),\n",
    "                    T.Resize(40, interpolation=Image.Resampling.BICUBIC),\n",
    "                    T.ToTensor()])\n",
    "\n",
    "def get_cart_location(screen_width):\n",
    "    world_width = env.x_threshold * 2\n",
    "    scale = screen_width / world_width\n",
    "    return int(env.state[0] * scale + screen_width / 2.0)  # MIDDLE OF CART\n",
    "\n",
    "def get_screen():\n",
    "    # Returned screen requested by gym is 400x600x3, but is sometimes larger\n",
    "    # such as 800x1200x3. Transpose it into torch order (CHW).\n",
    "    log('yes')\n",
    "    screen = env.render().transpose((2, 0, 1))\n",
    "    # screen = env.render()\n",
    "    # print(env.render())\n",
    "    log('ok')\n",
    "    # Cart is in the lower half, so strip off the top and bottom of the screen\n",
    "    _, screen_height, screen_width = screen.shape\n",
    "    log(screen_height, screen_width)\n",
    "    \n",
    "    screen = screen[:, int(screen_height*0.4):int(screen_height * 0.8)]\n",
    "    view_width = int(screen_width * 0.6)\n",
    "    cart_location = get_cart_location(screen_width)\n",
    "    # log(cart_location, screen_width, view_width)\n",
    "    \n",
    "    if cart_location < view_width // 2:\n",
    "        slice_range = slice(view_width)\n",
    "    elif cart_location > (screen_width - view_width // 2):\n",
    "        slice_range = slice(-view_width, None)\n",
    "    else:\n",
    "        slice_range = slice(cart_location - view_width // 2,\n",
    "                            cart_location + view_width // 2)\n",
    "    \n",
    "    # Strip off the edges, so that we have a square image centered on a cart\n",
    "    screen = screen[:, :, slice_range]\n",
    "    # Convert to float, rescale, convert to torch tensor\n",
    "    # (this doesn't require a copy)\n",
    "    screen = np.ascontiguousarray(screen, dtype=np.float32) / 255\n",
    "    screen = torch.from_numpy(screen)\n",
    "\n",
    "    # Resize, and add a batch dimension (BCHW)\n",
    "    return resize(screen).unsqueeze(0)\n",
    "\n",
    "state =  env.reset()\n",
    "log(state)\n",
    "plt.figure()\n",
    "plt.imshow(get_screen().cpu().squeeze(0).permute(1, 2, 0).numpy(),\n",
    "           interpolation='none')\n",
    "plt.title('Example extracted screen')\n",
    "plt.show()"
   ]
  },
  {
   "cell_type": "code",
   "execution_count": 30,
   "metadata": {},
   "outputs": [],
   "source": [
    "'''Neural Network for modelling the Q function'''\n",
    "'''\n",
    "super().__init__() - initialises the parent class, nn.Module here, \n",
    "which is a base class for all neural network modules\n",
    "\n",
    "nn.conv2d(in_channel, out_channel, kernel_size, stride, padding)\n",
    "in_channel: number of channels in the input image\n",
    "out_channel: number of channels produced by the convolution or no of filters\n",
    "kernel_size: size of the convolving kernels\n",
    "stride: stride of the convolution\n",
    "padding: zero-padding added to both sides of the input\n",
    "\n",
    "nn.BatchNorm2d(num_features)\n",
    "num_features: number of channels in the input image\n",
    "batch normalisation: normalises the output of a previous activation layer by\n",
    "subtracting the batch mean and dividing by the batch standard deviation \n",
    "'''\n",
    "class DQN(nn.Module):\n",
    "    def __init__(self, ht, wid, output):\n",
    "        super(DQN, self).__init__()\n",
    "        \n",
    "        self.conv1 = nn.Conv2d(3, 16, kernel_size=5, stride=2)\n",
    "        self.bn1 = nn.BatchNorm2d(16)\n",
    "        \n",
    "        self.conv2 = nn.Conv2d(16, 32, kernel_size=5, stride=2)\n",
    "        self.bn2 = nn.BatchNorm2d(32)\n",
    "\n",
    "        self.conv3 = nn.Conv2d(32, 32, kernel_size=5, stride=2)\n",
    "        self.bn3 = nn.BatchNorm2d(32)\n",
    "\n",
    "        self.head = nn.Linear(32 * 32, output)\n",
    "\n",
    "    def forward(self, x):\n",
    "        x = x.to(device)      # moving data to a gpu\n",
    "        \n",
    "        x = F.relu(self.bn1(self.conv1(x)))\n",
    "        x = F.relu(self.bn2(self.conv2(x)))\n",
    "        x = F.relu(self.bn3(self.conv3(x)))\n",
    "\n",
    "        return self.head(x.view(x.size(0), -1))     # ??\n",
    "        # x.view -- reshapes the tensor to a given shape\n",
    "        # x.view(x.size(0), -1) -- flattening the tensor\n"
   ]
  },
  {
   "cell_type": "code",
   "execution_count": 31,
   "metadata": {},
   "outputs": [],
   "source": [
    "Transition = namedtuple('transition', ('s', 'a', 's_next', 'r'))\n",
    "def Memory(object):\n",
    "    def __init__(self, capacity):\n",
    "        self.capacity = capacity\n",
    "        self.buffer = deque([], maxlen=capacity)\n",
    "\n",
    "    def push(self, *args):\n",
    "        self.buffer.append(Transition(*args))\n",
    "    \n",
    "    def sample(self, batch_size):\n",
    "        batch = random.sample(self.buffer, batch_size)\n",
    "        s, a, s_next, r = zip(*batch)\n",
    "        return s, a, s_next, r\n",
    "    \n",
    "    def __len__(self):\n",
    "        return len(self.buffer)"
   ]
  },
  {
   "cell_type": "code",
   "execution_count": 32,
   "metadata": {},
   "outputs": [
    {
     "name": "stdout",
     "output_type": "stream",
     "text": [
      "yes\n",
      "ok\n",
      "400 600\n"
     ]
    }
   ],
   "source": [
    "_, _, screen_height, screen_width = get_screen().shape\n",
    "\n",
    "policy = DQN(screen_height, screen_width, env.action_space.n)    # policy network\n",
    "target = DQN(screen_height, screen_width, env.action_space.n)   # target network\n",
    "\n",
    "policy.to(device)     # using gpu\n",
    "target.to(device)\n",
    "\n",
    "'''\n",
    "1. target network is occasionally updated with the policy network weights\n",
    "2. Actions are chosen from target network and based on it, policy network weights \n",
    "   are updated in EACH iteration. \n",
    "'''\n",
    "target.load_state_dict(policy.state_dict())    # copying the weights\n",
    "target.eval()     # setting the target network to evaluation mode\n",
    "\n",
    "\n",
    "'''\n",
    "torch.autograd() - automatic differentiation package\n",
    "used in backpropagation to compute the gradients of the loss function w.r.t. \n",
    "the weights of the neu.ral network\n",
    "\n",
    "target.eval() - sets the module in evaluation mode\n",
    "evaluation mode: dropout and batch normalization layers are disabled\n",
    "\n",
    "torch.no_grad() - turn off gradient calculation\n",
    "'''\n",
    "\n",
    "optimizer = optim.RMSprop(policy.parameters())    # MSE loss\n",
    "memory = Memory(MEM_SIZE)  # memory buffer\n",
    "\n",
    "# sample a batch of transitions from the memory buffer\n",
    "def sample_transitions(batch_size):\n",
    "   s, a, s_next, r = memory.sample(batch_size)\n",
    "   return s, a, s_next, r\n",
    "\n",
    "def optimize_model():\n",
    "    if len(memory) < batch_size:\n",
    "        return\n",
    "    s, a, s_next, r = sample_transitions(batch_size)\n",
    "\n",
    "    # Q(s, a)\n",
    "    q_values = policy(s).gather(1, a.unsqueeze(1)).squeeze(1)\n",
    "    # Q(s_next, a_next)\n",
    "    next_q_values = target(s_next).max(1)[0]\n",
    "    # expected Q values\n",
    "    expected_q_values = r + gamma * next_q_values\n",
    "\n",
    "    # loss function\n",
    "    loss = F.smooth_l1_loss(q_values, expected_q_values)\n",
    "\n",
    "    # backpropagation\n",
    "    optimizer.zero_grad()\n",
    "    loss.backward()\n",
    "    for param in policy.parameters():\n",
    "        param.grad.data.clamp_(-1, 1)\n",
    "    optimizer.step()"
   ]
  },
  {
   "cell_type": "code",
   "execution_count": null,
   "metadata": {},
   "outputs": [],
   "source": []
  }
 ],
 "metadata": {
  "kernelspec": {
   "display_name": "Python 3.10.8 ('nn')",
   "language": "python",
   "name": "python3"
  },
  "language_info": {
   "codemirror_mode": {
    "name": "ipython",
    "version": 3
   },
   "file_extension": ".py",
   "mimetype": "text/x-python",
   "name": "python",
   "nbconvert_exporter": "python",
   "pygments_lexer": "ipython3",
   "version": "3.10.8"
  },
  "orig_nbformat": 4,
  "vscode": {
   "interpreter": {
    "hash": "a9bbdcd43ca33f3fef16f6777c99f456688c24aa5862c7b4af1a417f67d0804a"
   }
  }
 },
 "nbformat": 4,
 "nbformat_minor": 2
}
